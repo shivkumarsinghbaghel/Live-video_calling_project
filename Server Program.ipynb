{
 "cells": [
  {
   "cell_type": "code",
   "execution_count": null,
   "metadata": {},
   "outputs": [],
   "source": [
    "import socket, cv2, pickle,struct,imutils\n",
    "import threading\n",
    "server_socket = socket.socket()\n",
    "server_socket.setsockopt(socket.SOL_SOCKET , socket.SO_REUSEADDR, 1)\n",
    "host_ip = '192.168.43.118'\n",
    "print('HOST IP:',host_ip)\n",
    "port = 1234\n",
    "socket_address = (host_ip,port)\n",
    "# Socket Bind\n",
    "server_socket.bind(socket_address)\n",
    "# Socket Listen\n",
    "server_socket.listen()\n",
    "print(\"LISTENING AT:\",socket_address)\n",
    "def sending_server(client_socket,addr):\n",
    "    print('GOT CONNECTION FROM:',addr)\n",
    "    if client_socket:\n",
    "        vid = cv2.VideoCapture(0)\n",
    "        \n",
    "        while(vid.isOpened()):\n",
    "            try:\n",
    "                img,frame = vid.read()\n",
    "                frame = imutils.resize(frame,width=520)\n",
    "                a = pickle.dumps(frame)\n",
    "                message = struct.pack(\"Q\",len(a))+a\n",
    "                client_socket.sendall(message)\n",
    "            except ConnectionAbortedError:\n",
    "                vid.release()\n",
    "                client_socket.close()\n",
    "                break\n",
    "            \n",
    "def receving_from_client():\n",
    "    data = b\"\"\n",
    "    payload_size = struct.calcsize(\"Q\")\n",
    "    while True:\n",
    "        while len(data) < payload_size:\n",
    "            packet = client_socket.recv(4*1024) # 4K\n",
    "            if not packet: break\n",
    "            data+=packet\n",
    "        packed_msg_size = data[:payload_size]\n",
    "        data = data[payload_size:]\n",
    "        msg_size = struct.unpack(\"Q\",packed_msg_size)[0]\n",
    "        \n",
    "        while len(data) < msg_size:\n",
    "            data += client_socket.recv(4*1024)\n",
    "        frame_data = data[:msg_size]\n",
    "        data  = data[msg_size:]\n",
    "        frame = pickle.loads(frame_data) \n",
    "        cv2.imshow('Client send to server VIDEO',frame)\n",
    "        key = cv2.waitKey(1) & 0xFF\n",
    "        if key == 13:\n",
    "            client_socket.close()\n",
    "            break\n",
    "    cv2.destroyAllWindows()\n",
    "while True:\n",
    "    client_socket, addr = server_socket.accept()\n",
    "    if client_socket:\n",
    "        t2 = threading.Thread(target=receving_from_client)\n",
    "        t2.start()\n",
    "        t1 = threading.Thread(target=sending_server,args=(client_socket,addr))\n",
    "        t1.start()"
   ]
  },
  {
   "cell_type": "code",
   "execution_count": null,
   "metadata": {},
   "outputs": [],
   "source": []
  },
  {
   "cell_type": "code",
   "execution_count": null,
   "metadata": {},
   "outputs": [],
   "source": []
  }
 ],
 "metadata": {
  "kernelspec": {
   "display_name": "Python 3",
   "language": "python",
   "name": "python3"
  },
  "language_info": {
   "codemirror_mode": {
    "name": "ipython",
    "version": 3
   },
   "file_extension": ".py",
   "mimetype": "text/x-python",
   "name": "python",
   "nbconvert_exporter": "python",
   "pygments_lexer": "ipython3",
   "version": "3.8.3"
  }
 },
 "nbformat": 4,
 "nbformat_minor": 4
}
